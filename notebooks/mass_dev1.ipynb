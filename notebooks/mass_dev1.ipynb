{
 "cells": [
  {
   "cell_type": "markdown",
   "metadata": {},
   "source": [
    "# Near Miss Development: V1"
   ]
  },
  {
   "cell_type": "code",
   "execution_count": 4,
   "metadata": {
    "tags": []
   },
   "outputs": [],
   "source": [
    "# Imports\n",
    "import numpy as np\n",
    "from scipy import stats\n",
    "import pandas as pd\n",
    "import math\n",
    "import seaborn as sns\n",
    "import os\n",
    "\n",
    "import matplotlib\n",
    "matplotlib.use('nbagg')\n",
    "%matplotlib inline\n",
    "\n",
    "PLACE_HOLDER = None"
   ]
  },
  {
   "cell_type": "markdown",
   "metadata": {
    "vscode": {
     "languageId": "sql"
    }
   },
   "source": [
    "## Recreate MASS V3 here:"
   ]
  },
  {
   "cell_type": "markdown",
   "metadata": {},
   "source": [
    "#### Function IO"
   ]
  },
  {
   "cell_type": "code",
   "execution_count": null,
   "metadata": {},
   "outputs": [],
   "source": [
    "def mass_v3(x, y, k):\n",
    "    \"\"\"\n",
    "    Parameters:\n",
    "    x : Long time series data (numpy array)\n",
    "    y : Query sequence (numpy array)  \n",
    "    k : Size of pieces, preferably a power of two (int)\n",
    "    \n",
    "    Returns:\n",
    "    dist : Distance profile (numpy array)\n",
    "    \"\"\""
   ]
  },
  {
   "cell_type": "markdown",
   "metadata": {},
   "source": [
    "# MASS V3 Function Implementation"
   ]
  },
  {
   "cell_type": "code",
   "execution_count": null,
   "metadata": {},
   "outputs": [],
   "source": [
    "x = PLACE_HOLDER\n",
    "y = PLACE_HOLDER"
   ]
  },
  {
   "cell_type": "code",
   "execution_count": null,
   "metadata": {},
   "outputs": [],
   "source": [
    "# Length of query and data\n",
    "m = len(y)\n",
    "n = len(x)\n",
    "dist = []"
   ]
  },
  {
   "cell_type": "code",
   "execution_count": null,
   "metadata": {},
   "outputs": [],
   "source": [
    "# Compute statistics for the query y\n",
    "meany = np.mean(y)\n",
    "sigmay = np.std(y, ddof=0)"
   ]
  },
  {
   "cell_type": "code",
   "execution_count": null,
   "metadata": {},
   "outputs": [],
   "source": [
    "# Compute moving mean and standard deviation for x\n",
    "meanx = np.convolve(x, np.ones(m), 'valid') / m\n",
    "sum_sq = np.convolve(x ** 2, np.ones(m), 'valid')\n",
    "sigmax = np.sqrt((sum_sq - m * meanx ** 2) / m)"
   ]
  },
  {
   "cell_type": "code",
   "execution_count": null,
   "metadata": {},
   "outputs": [],
   "source": [
    "# Reverse the query and pad with zeros to match size k\n",
    "y = y[::-1]\n",
    "y = np.concatenate((y, np.zeros(k - m)))"
   ]
  },
  {
   "cell_type": "code",
   "execution_count": null,
   "metadata": {},
   "outputs": [],
   "source": [
    "# Loop through segments of the time series\n",
    "for j in range(0, n - k + 1, k - m + 1):\n",
    "    # Get segment from x and compute FFTs\n",
    "    X = np.fft.fft(x[j:j + k])\n",
    "    Y = np.fft.fft(y)\n",
    "\n",
    "    # Element-wise multiplication in frequency domain and inverse FFT\n",
    "    Z = X * Y\n",
    "    z = np.fft.ifft(Z)\n",
    "\n",
    "    # Compute distance profile for the segment\n",
    "    d = 2 * (m - (z[m - 1:k] - m * meanx[j:j + k - m + 1] * meany) / (sigmax[j:j + k - m + 1] * sigmay))\n",
    "    dist.extend(np.sqrt(np.real(d)))\n",
    "\n",
    "# Handle the last segment if it is longer than the query\n",
    "j = j + k - m\n",
    "remaining_length = n - j\n",
    "\n",
    "if remaining_length >= m:\n",
    "    # Get the remaining segment from x and adjust query size\n",
    "    X = np.fft.fft(x[j:])\n",
    "    y = y[:remaining_length]\n",
    "    Y = np.fft.fft(y)\n",
    "\n",
    "    # Element-wise multiplication in frequency domain and inverse FFT\n",
    "    Z = X * Y\n",
    "    z = np.fft.ifft(Z)\n",
    "\n",
    "    # Compute distance profile for the remaining segment\n",
    "    d = 2 * (m - (z[m - 1:remaining_length] - m * meanx[j:j + remaining_length - m + 1] * meany) / (sigmax[j:j + remaining_length - m + 1] * sigmay))\n",
    "    dist.extend(np.sqrt(np.real(d)))"
   ]
  },
  {
   "cell_type": "markdown",
   "metadata": {},
   "source": [
    "# Complete MASS V3 Function\n"
   ]
  },
  {
   "cell_type": "markdown",
   "metadata": {},
   "source": [
    "#### My Implementation (Direct Translation from MATLAB MASS V3 Code)"
   ]
  },
  {
   "cell_type": "code",
   "execution_count": null,
   "metadata": {},
   "outputs": [],
   "source": [
    "def mass_v3(x, y, k):\n",
    "    \"\"\"\n",
    "    Parameters:\n",
    "    x : Long time series data (numpy array)\n",
    "    y : Query sequence (numpy array)  \n",
    "    k : Size of pieces, preferably a power of two (int)\n",
    "    \n",
    "    Returns:\n",
    "    dist : Distance profile (numpy array)\n",
    "    \"\"\"\n",
    "\n",
    "    # Length of query and data\n",
    "    m = len(y)\n",
    "    n = len(x)\n",
    "    dist = []\n",
    "    \n",
    "    # Compute statistics for the query y\n",
    "    meany = np.mean(y)\n",
    "    sigmay = np.std(y, ddof=0)\n",
    "\n",
    "    # Compute moving mean and standard deviation for x\n",
    "    meanx = np.convolve(x, np.ones(m), 'valid') / m\n",
    "    sum_sq = np.convolve(x ** 2, np.ones(m), 'valid')\n",
    "    sigmax = np.sqrt((sum_sq - m * meanx ** 2) / m)\n",
    "\n",
    "    # Reverse the query and pad with zeros to match size k\n",
    "    y = y[::-1]\n",
    "    y = np.concatenate((y, np.zeros(k - m)))\n",
    "\n",
    "    # Loop through segments of the time series\n",
    "    for j in range(0, n - k + 1, k - m + 1):\n",
    "        # Get segment from x and compute FFTs\n",
    "        X = np.fft.fft(x[j:j + k])\n",
    "        Y = np.fft.fft(y)\n",
    "\n",
    "        # Element-wise multiplication in frequency domain and inverse FFT\n",
    "        Z = X * Y\n",
    "        z = np.fft.ifft(Z)\n",
    "\n",
    "        # Compute distance profile for the segment\n",
    "        d = 2 * (m - (z[m - 1:k] - m * meanx[j:j + k - m + 1] * meany) / (sigmax[j:j + k - m + 1] * sigmay))\n",
    "        dist.extend(np.sqrt(np.real(d)))\n",
    "\n",
    "    # Handle the last segment if it is longer than the query\n",
    "    j = j + k - m\n",
    "    remaining_length = n - j\n",
    "    if remaining_length >= m:\n",
    "        # Get the remaining segment from x and adjust query size\n",
    "        X = np.fft.fft(x[j:])\n",
    "        y = y[:remaining_length]\n",
    "        Y = np.fft.fft(y)\n",
    "\n",
    "        # Element-wise multiplication in frequency domain and inverse FFT\n",
    "        Z = X * Y\n",
    "        z = np.fft.ifft(Z)\n",
    "\n",
    "        # Compute distance profile for the remaining segment\n",
    "        d = 2 * (m - (z[m - 1:remaining_length] - m * meanx[j:j + remaining_length - m + 1] * meany) / (sigmax[j:j + remaining_length - m + 1] * sigmay))\n",
    "        dist.extend(np.sqrt(np.real(d)))"
   ]
  },
  {
   "cell_type": "markdown",
   "metadata": {},
   "source": [
    "#### Implementation by Tyler Marrs: [Github Link](https://github.com/tylerwmarrs/mass-ts/blob/master/mass_ts/_mass_ts.py)"
   ]
  },
  {
   "cell_type": "code",
   "execution_count": null,
   "metadata": {},
   "outputs": [],
   "source": [
    "def mass3(ts, query, pieces):\n",
    "    \"\"\"\n",
    "    Compute the distance profile for the given query over the given time \n",
    "    series. This version of MASS is hardware efficient given the right number\n",
    "    of pieces.\n",
    "\n",
    "    Parameters\n",
    "    ----------\n",
    "    ts : array_like\n",
    "        The array to create a rolling window on.\n",
    "    query : array_like\n",
    "        The query.\n",
    "    pieces : int\n",
    "        Number of pieces to process. This is best as a power of 2.\n",
    "\n",
    "    Returns\n",
    "    -------\n",
    "    An array of distances.\n",
    "\n",
    "    Raises\n",
    "    ------\n",
    "    ValueError\n",
    "        If ts is not a list or np.array.\n",
    "        If query is not a list or np.array.\n",
    "        If ts or query is not one dimensional.\n",
    "        If pieces is less than the length of the query.\n",
    "    \"\"\"\n",
    "    ts, query = mtscore.precheck_series_and_query(ts, query)\n",
    "\n",
    "    m = len(query)\n",
    "    \n",
    "    if pieces < m:\n",
    "        raise ValueError('pieces should be larger than the query length.')\n",
    "    \n",
    "    n = len(ts)\n",
    "    k = pieces\n",
    "    x = ts\n",
    "    dist = np.array([])\n",
    "    \n",
    "    # compute stats in O(n)\n",
    "    meany = np.mean(query)\n",
    "    sigmay = np.std(query)\n",
    "    \n",
    "    meanx = mtscore.moving_average(x, m)\n",
    "    meanx = np.append(np.ones([1, len(x) - len(meanx)]), meanx)\n",
    "    sigmax = mtscore.moving_std(x, m)\n",
    "    sigmax = np.append(np.zeros([1, len(x) - len(sigmax)]), sigmax)\n",
    "    \n",
    "    # reverse the query and append zeros\n",
    "    y = np.append(np.flip(query), np.zeros(pieces - m))\n",
    "    \n",
    "    step_size = k - m + 1\n",
    "    stop = n - k + 1\n",
    "       \n",
    "    for j in range(0, stop, step_size):\n",
    "        # The main trick of getting dot products in O(n log n) time\n",
    "        X = np.fft.fft(x[j:j + k])\n",
    "        Y = np.fft.fft(y)\n",
    "        \n",
    "        Z = X * Y\n",
    "        z = np.fft.ifft(Z)\n",
    "            \n",
    "        d = 2 * (m-(z[m - 1:k] - m * meanx[m + j - 1:j + k] * meany) /\n",
    "                   (sigmax[m + j - 1:j + k] * sigmay))\n",
    "        d = np.sqrt(d)\n",
    "        dist = np.append(dist, d)\n",
    "   \n",
    "    j = j + k - m\n",
    "    k = n - j - 1\n",
    "    if k >= m:\n",
    "        X = np.fft.fft(x[j:n-1])\n",
    "        y = y[0:k]\n",
    "\n",
    "        Y = np.fft.fft(y)\n",
    "        Z = X * Y\n",
    "        z = np.fft.ifft(Z)\n",
    "\n",
    "        d = 2 * (m-(z[m - 1:k] - m * meanx[j + m - 1:n - 1] * meany) /\n",
    "                 (sigmax[j + m - 1:n - 1] * sigmay))\n",
    "       \n",
    "        d = np.sqrt(d)\n",
    "        dist = np.append(dist, d)\n",
    "    \n",
    "    return np.array(dist)"
   ]
  },
  {
   "cell_type": "markdown",
   "metadata": {},
   "source": [
    "# Algorithm Benchmarking\n",
    "- Lets look at the time complexity of each of these functions as a baseline"
   ]
  },
  {
   "cell_type": "code",
   "execution_count": null,
   "metadata": {},
   "outputs": [],
   "source": [
    "# Load the data\n"
   ]
  },
  {
   "cell_type": "code",
   "execution_count": null,
   "metadata": {},
   "outputs": [],
   "source": [
    "# Calcula"
   ]
  }
 ],
 "metadata": {
  "environment": {
   "kernel": "python3",
   "name": "common-cpu.m114",
   "type": "gcloud",
   "uri": "gcr.io/deeplearning-platform-release/base-cpu:m114"
  },
  "kernelspec": {
   "display_name": "near_miss_env",
   "language": "python",
   "name": "python3"
  },
  "language_info": {
   "codemirror_mode": {
    "name": "ipython",
    "version": 3
   },
   "file_extension": ".py",
   "mimetype": "text/x-python",
   "name": "python",
   "nbconvert_exporter": "python",
   "pygments_lexer": "ipython3",
   "version": "3.9.18"
  }
 },
 "nbformat": 4,
 "nbformat_minor": 4
}
